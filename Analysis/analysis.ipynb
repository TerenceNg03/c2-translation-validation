{
 "cells": [
  {
   "cell_type": "code",
   "execution_count": null,
   "id": "41c9fb68-a2ac-4663-a3a7-fd068471acf5",
   "metadata": {},
   "outputs": [],
   "source": []
  }
 ],
 "metadata": {
  "kernelspec": {
   "display_name": "analysis",
   "language": "python",
   "name": "analysis"
  }
 },
 "nbformat": 4,
 "nbformat_minor": 5
}
